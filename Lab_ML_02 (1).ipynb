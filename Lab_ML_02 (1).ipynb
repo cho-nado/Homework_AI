{
  "nbformat": 4,
  "nbformat_minor": 0,
  "metadata": {
    "colab": {
      "provenance": []
    },
    "kernelspec": {
      "name": "python3",
      "display_name": "Python 3"
    },
    "language_info": {
      "name": "python"
    }
  },
  "cells": [
    {
      "cell_type": "markdown",
      "source": [
        "# Лабораторная работа №2\n",
        "## Глобальная оптимизация и метаэврестические алгоритмы\n",
        "\n",
        "  В Pygmo запрогроммировать две своих тестовых функции и найти их оптимум 3 разными алгоритмами доступными в библиотеке и получить таблицу сравнения"
      ],
      "metadata": {
        "id": "lwCIXP-4Kd6-"
      }
    },
    {
      "cell_type": "markdown",
      "source": [
        "## Импортирование необходимых библиотек"
      ],
      "metadata": {
        "id": "nKeb0JwORtfA"
      }
    },
    {
      "cell_type": "code",
      "source": [
        "!pip3 install pygmo"
      ],
      "metadata": {
        "colab": {
          "base_uri": "https://localhost:8080/"
        },
        "id": "06UTihfHKcGQ",
        "outputId": "6b4c9272-73b1-4de3-9458-f19c493d3829"
      },
      "execution_count": 22,
      "outputs": [
        {
          "output_type": "stream",
          "name": "stdout",
          "text": [
            "Requirement already satisfied: pygmo in /usr/local/lib/python3.10/dist-packages (2.19.5)\n",
            "Requirement already satisfied: numpy in /usr/local/lib/python3.10/dist-packages (from pygmo) (1.23.5)\n",
            "Requirement already satisfied: cloudpickle in /usr/local/lib/python3.10/dist-packages (from pygmo) (2.2.1)\n",
            "Requirement already satisfied: scipy in /usr/local/lib/python3.10/dist-packages (from pygmo) (1.11.4)\n"
          ]
        }
      ]
    },
    {
      "cell_type": "code",
      "source": [
        "from matplotlib import pyplot as plt\n",
        "import pygmo as pg\n",
        "import numpy as np\n",
        "from typing import Mapping, Tuple\n",
        "import pandas as pd"
      ],
      "metadata": {
        "id": "nJR1Ods76R4Q"
      },
      "execution_count": 23,
      "outputs": []
    },
    {
      "cell_type": "markdown",
      "source": [
        "## Функция Матьяса"
      ],
      "metadata": {
        "id": "GCFGNJm3KxIo"
      }
    },
    {
      "cell_type": "code",
      "source": [
        "class Matiac():\n",
        "  @staticmethod\n",
        "  def fitness(x):\n",
        "        return [0.26*(x[0]*x[0] +x[1]*x[1])-0.48*x[0]*x[1]]\n",
        "\n",
        "  @staticmethod\n",
        "  def get_bounds():\n",
        "    return np.array([[-10, -10], [10, 10]])\n",
        "\n",
        "  @staticmethod\n",
        "  def get_min():\n",
        "        return np.array([0., 0., 0.])"
      ],
      "metadata": {
        "id": "xormx2b20R9R"
      },
      "execution_count": 31,
      "outputs": []
    },
    {
      "cell_type": "markdown",
      "source": [
        "## Функция Леви №13"
      ],
      "metadata": {
        "id": "APu5TgBFSWHt"
      }
    },
    {
      "cell_type": "code",
      "source": [
        "class Levi():\n",
        "  @staticmethod\n",
        "  def fitness(x):\n",
        "        return [np.sin(3 * np.pi * x[0])**2 + (x[0] - 1)**2 * (1 + np.sin(3 * np.pi * x[1])**2) + (x[1] - 1)**2 * (1 + np.sin(2 * np.pi * x[1])**2)]\n",
        "\n",
        "  @staticmethod\n",
        "  def get_bounds():\n",
        "    return np.array([[-10, -10], [10, 10]])\n",
        "\n",
        "  @staticmethod\n",
        "  def get_min():\n",
        "        return np.array([1., 1., 0.])\n"
      ],
      "metadata": {
        "id": "HaGyeZog0WJC"
      },
      "execution_count": 32,
      "outputs": []
    },
    {
      "cell_type": "markdown",
      "source": [
        "## Эволюционной оптимизации для заданных функций"
      ],
      "metadata": {
        "id": "lUsE1UGgLHgH"
      }
    },
    {
      "cell_type": "code",
      "source": [
        "problem_mat = pg.problem(Matiac())\n",
        "problem_levi = pg.problem(Levi())"
      ],
      "metadata": {
        "id": "qAEL3yUv7nbi"
      },
      "execution_count": 33,
      "outputs": []
    },
    {
      "cell_type": "code",
      "source": [
        "def get_algo_pop(prob, algo_f: Mapping, pops: int = 1000, **params):\n",
        "    \"\"\"Get algo and pop\n",
        "\n",
        "       Args:\n",
        "           prob (Generic): общая задача\n",
        "           algo_f (Mapping): метод решения\n",
        "           pops (int, optional): количество \"особей\". Defaults to 1000\n",
        "           *kwargs: gen=..., limit=..., etc.\n",
        "\n",
        "       Return:\n",
        "           Tuple: algo, pop\n",
        "    \"\"\"\n",
        "\n",
        "    pop = pg.population(prob, pops)\n",
        "    algo = pg.algorithm(algo_f(**params))\n",
        "    pop = pg.population(prob, pops)\n",
        "    pop = algo.evolve(pop)\n",
        "\n",
        "    return algo, pop"
      ],
      "metadata": {
        "id": "peLT99xsUEuj"
      },
      "execution_count": 34,
      "outputs": []
    },
    {
      "cell_type": "markdown",
      "source": [
        "## Создаем таблицы сравнения"
      ],
      "metadata": {
        "id": "-Mdztz1kYpNL"
      }
    },
    {
      "cell_type": "code",
      "source": [
        "def table(v):\n",
        "  table = pd.DataFrame({'Значение':['X' , 'Y' , 'F' , 'E'],\n",
        "                        f'{v[0]}':[f'{v[1]}' , f'{v[2]}' , f'{v[3]}' , f'{v[3] - v[12][2]}'],\n",
        "                        f'{v[4]}':[f'{v[5]}' , f'{v[6]}' , f'{v[7]}' , f'{v[7] - v[12][2]}'],\n",
        "                        f'{v[8]}':[f'{v[9]}' , f'{v[10]}' , f'{v[11]}' , f'{v[11] - v[12][2]}']})\n",
        "  print(table)"
      ],
      "metadata": {
        "id": "sDPc9hBTvdpG"
      },
      "execution_count": 35,
      "outputs": []
    },
    {
      "cell_type": "markdown",
      "source": [
        "## Для Матьяса"
      ],
      "metadata": {
        "id": "w_l9WzxmVlKB"
      }
    },
    {
      "cell_type": "code",
      "source": [
        "# de - Дифференциальная эволюция (DE)\n",
        "# sade - Самоадаптивное DE (jDE и iDE)\n",
        "# sga - Простой генетический алгоритм (sga)\n",
        "\n",
        "sade_mat_x, de_mat_x, sga_mat_x = 0.0, 0.0, 0.0\n",
        "sade_mat_y, de_mat_y, sga_mat_y = 0.0, 0.0, 0.0\n",
        "sade_mat_f, de_mat_f, sga_mat_f = 0.0, 0.0, 0.0\n",
        "for _ in range(10):\n",
        "  algo_1, pop_1 = get_algo_pop(problem_mat, pg.sade, gen=60)\n",
        "  algo_2, pop_2 = get_algo_pop(problem_mat, pg.de, gen=60)\n",
        "  algo_3, pop_3 = get_algo_pop(problem_mat, pg.sga, gen=60)\n",
        "  sade_mat_x += pop_1.champion_x[0]\n",
        "  de_mat_x += pop_2.champion_x[0]\n",
        "  sga_mat_x += pop_3.champion_x[0]\n",
        "  sade_mat_y += pop_1.champion_x[1]\n",
        "  de_mat_y += pop_2.champion_x[1]\n",
        "  sga_mat_y += pop_3.champion_x[1]\n",
        "  sade_mat_f += pop_1.champion_f\n",
        "  de_mat_f += pop_2.champion_f\n",
        "  sga_mat_f += pop_3.champion_f\n",
        "\n",
        "sade_mat_x = sade_mat_x / 10.0\n",
        "de_mat_x = de_mat_x / 10.0\n",
        "sga_mat_x = sga_mat_x / 10.0\n",
        "sade_mat_y = sade_mat_y / 10.0\n",
        "de_mat_y = de_mat_y / 10.0\n",
        "sga_mat_y = sga_mat_y / 10.0\n",
        "sade_mat_f = sade_mat_f / 10.0\n",
        "de_mat_f = de_mat_f / 10.0\n",
        "sga_mat_f = sga_mat_f / 10.0\n",
        "\n",
        "values_mat = ['Самоадаптивное DE', sade_mat_x, sade_mat_y, sade_mat_f, 'Дифференциальная эволюция (DE)', de_mat_x, de_mat_y, de_mat_f, 'Простой генетический алгоритм', sga_mat_x, sga_mat_y, sga_mat_f, Matiac.get_min()]\n",
        "table(values_mat)"
      ],
      "metadata": {
        "colab": {
          "base_uri": "https://localhost:8080/"
        },
        "id": "Qm956nnXUAOb",
        "outputId": "179f1a03-4524-4275-c429-97efc6352487"
      },
      "execution_count": 36,
      "outputs": [
        {
          "output_type": "stream",
          "name": "stdout",
          "text": [
            "  Значение        Самоадаптивное DE Дифференциальная эволюция (DE)  \\\n",
            "0        X   -5.332408787814697e-06          4.999488606676842e-06   \n",
            "1        Y  -6.0649919908281055e-06          4.496016049787129e-07   \n",
            "2        F         [2.38347767e-11]               [1.08645741e-10]   \n",
            "3        E         [2.38347767e-11]               [1.08645741e-10]   \n",
            "\n",
            "  Простой генетический алгоритм  \n",
            "0          0.016380556748485955  \n",
            "1          0.014373742852185359  \n",
            "2                  [0.00038665]  \n",
            "3                  [0.00038665]  \n"
          ]
        }
      ]
    },
    {
      "cell_type": "markdown",
      "source": [
        "## Для Леви №13"
      ],
      "metadata": {
        "id": "zmyxue-oVfd8"
      }
    },
    {
      "cell_type": "code",
      "source": [
        "# de - Дифференциальная эволюция (DE)\n",
        "# sade - Самоадаптивное DE (jDE и iDE)\n",
        "# sga - Простой генетический алгоритм (sga)\n",
        "\n",
        "sade_levi_x, de_levi_x, sga_levi_x = 0.0, 0.0, 0.0\n",
        "sade_levi_y, de_levi_y, sga_levi_y = 0.0, 0.0, 0.0\n",
        "sade_levi_f, de_levi_f, sga_levi_f = 0.0, 0.0, 0.0\n",
        "for _ in range(10):\n",
        "  algo_1, pop_1 = get_algo_pop(problem_levi, pg.sade, gen=60)\n",
        "  algo_2, pop_2 = get_algo_pop(problem_levi, pg.de, gen=60)\n",
        "  algo_3, pop_3 = get_algo_pop(problem_levi, pg.sga, gen=60)\n",
        "  sade_levi_x += pop_1.champion_x[0]\n",
        "  de_levi_x += pop_2.champion_x[0]\n",
        "  sga_levi_x += pop_3.champion_x[0]\n",
        "  sade_levi_y += pop_1.champion_x[1]\n",
        "  de_levi_y += pop_2.champion_x[1]\n",
        "  sga_levi_y += pop_3.champion_x[1]\n",
        "  sade_levi_f += pop_1.champion_f\n",
        "  de_levi_f += pop_2.champion_f\n",
        "  sga_levi_f += pop_3.champion_f\n",
        "\n",
        "sade_levi_x = sade_levi_x / 10.0\n",
        "de_levi_x = de_levi_x / 10.0\n",
        "sga_levi_x = sga_levi_x / 10.0\n",
        "sade_levi_y = sade_levi_y / 10.0\n",
        "de_levi_y = de_levi_y / 10.0\n",
        "sga_levi_y = sga_levi_y / 10.0\n",
        "sade_levi_f = sade_levi_f / 10.0\n",
        "de_levi_f = de_levi_f / 10.0\n",
        "sga_levi_f = sga_levi_f / 10.0\n",
        "\n",
        "values_levi = ['Самоадаптивное DE', sade_levi_x, sade_levi_y, sade_levi_f, 'Дифференциальная эволюция (DE)', de_levi_x, de_levi_y, de_levi_f, 'Простой генетический алгоритм', sga_levi_x, sga_levi_y, sga_levi_f, Levi.get_min()]\n",
        "table(values_levi)"
      ],
      "metadata": {
        "colab": {
          "base_uri": "https://localhost:8080/"
        },
        "outputId": "c44ea7c7-ea65-49ce-ec96-c761db5e4dd0",
        "id": "RkbHKx58wTzk"
      },
      "execution_count": 37,
      "outputs": [
        {
          "output_type": "stream",
          "name": "stdout",
          "text": [
            "  Значение   Самоадаптивное DE Дифференциальная эволюция (DE)  \\\n",
            "0        X  0.9999998395522927              1.000000974494857   \n",
            "1        Y  0.9999994020166632             0.9999992668957727   \n",
            "2        F    [1.98608205e-11]               [7.01655939e-10]   \n",
            "3        E    [1.98608205e-11]               [7.01655939e-10]   \n",
            "\n",
            "  Простой генетический алгоритм  \n",
            "0              1.00072167245783  \n",
            "1             1.001298027116172  \n",
            "2                  [0.00346949]  \n",
            "3                  [0.00346949]  \n"
          ]
        }
      ]
    }
  ]
}